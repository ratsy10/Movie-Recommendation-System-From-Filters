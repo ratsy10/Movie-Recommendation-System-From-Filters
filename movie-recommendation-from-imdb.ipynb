{
 "cells": [
  {
   "cell_type": "code",
   "execution_count": 1,
   "id": "c8bed245",
   "metadata": {
    "_cell_guid": "b1076dfc-b9ad-4769-8c92-a6c4dae69d19",
    "_uuid": "8f2839f25d086af736a60e9eeb907d3b93b6e0e5",
    "execution": {
     "iopub.execute_input": "2024-12-22T18:03:44.182953Z",
     "iopub.status.busy": "2024-12-22T18:03:44.182573Z",
     "iopub.status.idle": "2024-12-22T18:03:45.995783Z",
     "shell.execute_reply": "2024-12-22T18:03:45.994738Z"
    },
    "papermill": {
     "duration": 1.819849,
     "end_time": "2024-12-22T18:03:45.997781",
     "exception": false,
     "start_time": "2024-12-22T18:03:44.177932",
     "status": "completed"
    },
    "tags": []
   },
   "outputs": [],
   "source": [
    "# Importing necessary libraries\n",
    "import pandas as pd\n",
    "import numpy as np\n",
    "import requests\n",
    "from sklearn.model_selection import train_test_split\n",
    "from sklearn.metrics.pairwise import cosine_similarity\n",
    "from sklearn.feature_extraction.text import TfidfVectorizer\n",
    "import ast\n",
    "import time\n",
    "import json\n",
    "import os\n"
   ]
  },
  {
   "cell_type": "code",
   "execution_count": 2,
   "id": "367eb9a7",
   "metadata": {
    "execution": {
     "iopub.execute_input": "2024-12-22T18:03:46.005125Z",
     "iopub.status.busy": "2024-12-22T18:03:46.004627Z",
     "iopub.status.idle": "2024-12-22T18:03:48.858340Z",
     "shell.execute_reply": "2024-12-22T18:03:48.857119Z"
    },
    "papermill": {
     "duration": 2.85926,
     "end_time": "2024-12-22T18:03:48.860288",
     "exception": false,
     "start_time": "2024-12-22T18:03:46.001028",
     "status": "completed"
    },
    "tags": []
   },
   "outputs": [
    {
     "name": "stdout",
     "output_type": "stream",
     "text": [
      "Dataset Shape: (1035798, 7)\n",
      "\n",
      "Columns in the dataset:\n",
      "Index(['id', 'title', 'type', 'genres', 'averageRating', 'numVotes',\n",
      "       'releaseYear'],\n",
      "      dtype='object')\n"
     ]
    },
    {
     "data": {
      "text/html": [
       "<div>\n",
       "<style scoped>\n",
       "    .dataframe tbody tr th:only-of-type {\n",
       "        vertical-align: middle;\n",
       "    }\n",
       "\n",
       "    .dataframe tbody tr th {\n",
       "        vertical-align: top;\n",
       "    }\n",
       "\n",
       "    .dataframe thead th {\n",
       "        text-align: right;\n",
       "    }\n",
       "</style>\n",
       "<table border=\"1\" class=\"dataframe\">\n",
       "  <thead>\n",
       "    <tr style=\"text-align: right;\">\n",
       "      <th></th>\n",
       "      <th>id</th>\n",
       "      <th>title</th>\n",
       "      <th>type</th>\n",
       "      <th>genres</th>\n",
       "      <th>averageRating</th>\n",
       "      <th>numVotes</th>\n",
       "      <th>releaseYear</th>\n",
       "    </tr>\n",
       "  </thead>\n",
       "  <tbody>\n",
       "    <tr>\n",
       "      <th>0</th>\n",
       "      <td>tt0000009</td>\n",
       "      <td>Miss Jerry</td>\n",
       "      <td>movie</td>\n",
       "      <td>Romance</td>\n",
       "      <td>5.4</td>\n",
       "      <td>215.0</td>\n",
       "      <td>1894.0</td>\n",
       "    </tr>\n",
       "    <tr>\n",
       "      <th>1</th>\n",
       "      <td>tt0000147</td>\n",
       "      <td>The Corbett-Fitzsimmons Fight</td>\n",
       "      <td>movie</td>\n",
       "      <td>Documentary, News, Sport</td>\n",
       "      <td>5.2</td>\n",
       "      <td>542.0</td>\n",
       "      <td>1897.0</td>\n",
       "    </tr>\n",
       "    <tr>\n",
       "      <th>2</th>\n",
       "      <td>tt0000502</td>\n",
       "      <td>Bohemios</td>\n",
       "      <td>movie</td>\n",
       "      <td>NaN</td>\n",
       "      <td>4.4</td>\n",
       "      <td>18.0</td>\n",
       "      <td>1905.0</td>\n",
       "    </tr>\n",
       "    <tr>\n",
       "      <th>3</th>\n",
       "      <td>tt0000574</td>\n",
       "      <td>The Story of the Kelly Gang</td>\n",
       "      <td>movie</td>\n",
       "      <td>Action, Adventure, Biography</td>\n",
       "      <td>6.0</td>\n",
       "      <td>948.0</td>\n",
       "      <td>1906.0</td>\n",
       "    </tr>\n",
       "    <tr>\n",
       "      <th>4</th>\n",
       "      <td>tt0000591</td>\n",
       "      <td>The Prodigal Son</td>\n",
       "      <td>movie</td>\n",
       "      <td>Drama</td>\n",
       "      <td>5.7</td>\n",
       "      <td>29.0</td>\n",
       "      <td>1907.0</td>\n",
       "    </tr>\n",
       "  </tbody>\n",
       "</table>\n",
       "</div>"
      ],
      "text/plain": [
       "          id                          title   type  \\\n",
       "0  tt0000009                     Miss Jerry  movie   \n",
       "1  tt0000147  The Corbett-Fitzsimmons Fight  movie   \n",
       "2  tt0000502                       Bohemios  movie   \n",
       "3  tt0000574    The Story of the Kelly Gang  movie   \n",
       "4  tt0000591               The Prodigal Son  movie   \n",
       "\n",
       "                         genres  averageRating  numVotes  releaseYear  \n",
       "0                       Romance            5.4     215.0       1894.0  \n",
       "1      Documentary, News, Sport            5.2     542.0       1897.0  \n",
       "2                           NaN            4.4      18.0       1905.0  \n",
       "3  Action, Adventure, Biography            6.0     948.0       1906.0  \n",
       "4                         Drama            5.7      29.0       1907.0  "
      ]
     },
     "execution_count": 2,
     "metadata": {},
     "output_type": "execute_result"
    }
   ],
   "source": [
    "# Load the IMDb dataset\n",
    "file_path = '/kaggle/input/full-imdb-dataset/data.csv'\n",
    "df = pd.read_csv(file_path)\n",
    "\n",
    "# Display basic information about the dataset\n",
    "print(f\"Dataset Shape: {df.shape}\")\n",
    "print(\"\\nColumns in the dataset:\")\n",
    "print(df.columns)\n",
    "\n",
    "# Show a sample of the dataset to understand its structure\n",
    "df.head()\n"
   ]
  },
  {
   "cell_type": "code",
   "execution_count": 3,
   "id": "0c01ca81",
   "metadata": {
    "execution": {
     "iopub.execute_input": "2024-12-22T18:03:48.868241Z",
     "iopub.status.busy": "2024-12-22T18:03:48.867894Z",
     "iopub.status.idle": "2024-12-22T18:03:48.942822Z",
     "shell.execute_reply": "2024-12-22T18:03:48.941479Z"
    },
    "papermill": {
     "duration": 0.080944,
     "end_time": "2024-12-22T18:03:48.944598",
     "exception": false,
     "start_time": "2024-12-22T18:03:48.863654",
     "status": "completed"
    },
    "tags": []
   },
   "outputs": [
    {
     "name": "stdout",
     "output_type": "stream",
     "text": [
      "Dataset shape after filtering: (717077, 7)\n",
      "              id                        title   type  \\\n",
      "5500   tt0011801             Tötet nicht mehr  movie   \n",
      "8526   tt0015414       La tierra de los toros  movie   \n",
      "8779   tt0015724                Dama de noche  movie   \n",
      "24375  tt0035423               Kate & Leopold  movie   \n",
      "25338  tt0036606  Another Time, Another Place  movie   \n",
      "\n",
      "                         genres  averageRating  numVotes  releaseYear  \n",
      "5500              Action, Crime            NaN       NaN       2019.0  \n",
      "8526                        NaN            5.4      17.0       2000.0  \n",
      "8779    Drama, Mystery, Romance            6.3      31.0       1993.0  \n",
      "24375  Comedy, Fantasy, Romance            6.4   90823.0       2001.0  \n",
      "25338                Drama, War            6.4     366.0       1983.0  \n"
     ]
    }
   ],
   "source": [
    "df['releaseYear'] = pd.to_numeric(df['releaseYear'], errors='coerce')\n",
    "\n",
    "# Filter out movies released before 1980\n",
    "df_filtered = df[df['releaseYear'] >= 1980]\n",
    "\n",
    "# Display the shape of the filtered dataset\n",
    "print(f\"Dataset shape after filtering: {df_filtered.shape}\")\n",
    "\n",
    "# Display the first few rows of the filtered dataset\n",
    "print(df_filtered.head())"
   ]
  },
  {
   "cell_type": "code",
   "execution_count": 4,
   "id": "6789a044",
   "metadata": {
    "execution": {
     "iopub.execute_input": "2024-12-22T18:03:48.952394Z",
     "iopub.status.busy": "2024-12-22T18:03:48.952016Z",
     "iopub.status.idle": "2024-12-22T18:03:49.012793Z",
     "shell.execute_reply": "2024-12-22T18:03:49.011634Z"
    },
    "papermill": {
     "duration": 0.066554,
     "end_time": "2024-12-22T18:03:49.014509",
     "exception": false,
     "start_time": "2024-12-22T18:03:48.947955",
     "status": "completed"
    },
    "tags": []
   },
   "outputs": [
    {
     "name": "stdout",
     "output_type": "stream",
     "text": [
      "Dataset shape after filtering: (717077, 6)\n",
      "                             title   type                    genres  \\\n",
      "5500              Tötet nicht mehr  movie             Action, Crime   \n",
      "8526        La tierra de los toros  movie                       NaN   \n",
      "8779                 Dama de noche  movie   Drama, Mystery, Romance   \n",
      "24375               Kate & Leopold  movie  Comedy, Fantasy, Romance   \n",
      "25338  Another Time, Another Place  movie                Drama, War   \n",
      "\n",
      "       averageRating  numVotes  releaseYear  \n",
      "5500             NaN       NaN       2019.0  \n",
      "8526             5.4      17.0       2000.0  \n",
      "8779             6.3      31.0       1993.0  \n",
      "24375            6.4   90823.0       2001.0  \n",
      "25338            6.4     366.0       1983.0  \n"
     ]
    }
   ],
   "source": [
    "df_filtered = df_filtered.drop(columns=['id'])\n",
    "\n",
    "# Display the shape of the filtered dataset\n",
    "print(f\"Dataset shape after filtering: {df_filtered.shape}\")\n",
    "\n",
    "# Display the first few rows of the filtered dataset\n",
    "print(df_filtered.head())"
   ]
  },
  {
   "cell_type": "code",
   "execution_count": 5,
   "id": "772d8eb5",
   "metadata": {
    "execution": {
     "iopub.execute_input": "2024-12-22T18:03:49.022585Z",
     "iopub.status.busy": "2024-12-22T18:03:49.022244Z",
     "iopub.status.idle": "2024-12-22T18:03:51.326197Z",
     "shell.execute_reply": "2024-12-22T18:03:51.324962Z"
    },
    "papermill": {
     "duration": 2.310079,
     "end_time": "2024-12-22T18:03:51.328057",
     "exception": false,
     "start_time": "2024-12-22T18:03:49.017978",
     "status": "completed"
    },
    "tags": []
   },
   "outputs": [
    {
     "name": "stdout",
     "output_type": "stream",
     "text": [
      "                             title   type                    genres  \\\n",
      "5500              Tötet nicht mehr  movie             Action, Crime   \n",
      "8526        La tierra de los toros  movie                             \n",
      "8779                 Dama de noche  movie   Drama, Mystery, Romance   \n",
      "24375               Kate & Leopold  movie  Comedy, Fantasy, Romance   \n",
      "25338  Another Time, Another Place  movie                Drama, War   \n",
      "\n",
      "       averageRating  numVotes  releaseYear        Adult   Adventure  \\\n",
      "5500             NaN       NaN       2019.0  0.0     0.0         0.0   \n",
      "8526             5.4      17.0       2000.0  0.0     0.0         0.0   \n",
      "8779             6.3      31.0       1993.0  0.0     0.0         0.0   \n",
      "24375            6.4   90823.0       2001.0  0.0     0.0         0.0   \n",
      "25338            6.4     366.0       1983.0  0.0     0.0         0.0   \n",
      "\n",
      "        Animation  ...  News  Reality-TV  Romance  Sci-Fi  Short  Sport  \\\n",
      "5500          0.0  ...   0.0         0.0      0.0     0.0    0.0    0.0   \n",
      "8526          0.0  ...   0.0         0.0      0.0     0.0    0.0    0.0   \n",
      "8779          0.0  ...   0.0         0.0      0.0     0.0    0.0    0.0   \n",
      "24375         0.0  ...   0.0         0.0      0.0     0.0    0.0    0.0   \n",
      "25338         0.0  ...   0.0         0.0      0.0     0.0    0.0    0.0   \n",
      "\n",
      "       Talk-Show  Thriller  War  Western  \n",
      "5500         0.0       0.0  0.0      0.0  \n",
      "8526         0.0       1.0  0.0      0.0  \n",
      "8779         0.0       0.0  0.0      0.0  \n",
      "24375        0.0       0.0  0.0      0.0  \n",
      "25338        0.0       0.0  0.0      0.0  \n",
      "\n",
      "[5 rows x 60 columns]\n"
     ]
    }
   ],
   "source": [
    "from sklearn.preprocessing import MultiLabelBinarizer\n",
    "\n",
    "# Ensure 'genres' column is properly processed (handle missing or malformed data)\n",
    "df_filtered['genres'] = df_filtered['genres'].fillna('')  # Fill missing genres with an empty string\n",
    "\n",
    "# Split genres by comma and apply MultiLabelBinarizer\n",
    "genres_split = df_filtered['genres'].str.split(',')\n",
    "mlb = MultiLabelBinarizer()\n",
    "genre_encoded = mlb.fit_transform(genres_split)\n",
    "\n",
    "# Create a DataFrame for the encoded genres\n",
    "genre_df = pd.DataFrame(genre_encoded, columns=mlb.classes_)\n",
    "\n",
    "# Merge the genre columns back into the filtered dataset\n",
    "df_processed = pd.concat([df_filtered, genre_df], axis=1)\n",
    "\n",
    "# Display the updated DataFrame\n",
    "print(df_processed.head())\n"
   ]
  },
  {
   "cell_type": "code",
   "execution_count": 6,
   "id": "d3f1cc9b",
   "metadata": {
    "execution": {
     "iopub.execute_input": "2024-12-22T18:03:51.336497Z",
     "iopub.status.busy": "2024-12-22T18:03:51.336144Z",
     "iopub.status.idle": "2024-12-22T18:03:51.488639Z",
     "shell.execute_reply": "2024-12-22T18:03:51.487402Z"
    },
    "papermill": {
     "duration": 0.159032,
     "end_time": "2024-12-22T18:03:51.490700",
     "exception": false,
     "start_time": "2024-12-22T18:03:51.331668",
     "status": "completed"
    },
    "tags": []
   },
   "outputs": [
    {
     "name": "stdout",
     "output_type": "stream",
     "text": [
      "                                 title  averageRating  numVotes  \\\n",
      "502807       Aama Bhitare Kichhi Achhi            7.2      21.0   \n",
      "802697                        Safe Bet            8.0      10.0   \n",
      "799748               Bajrangi Bhaijaan            8.1  101701.0   \n",
      "857750  Cast me! Die Show ihres Lebens            7.6      54.0   \n",
      "500864                   The Mummerman            8.6      35.0   \n",
      "\n",
      "                           genres  releaseYear  \n",
      "502807      Action, Comedy, Drama       2010.0  \n",
      "802697             Action, Comedy       2015.0  \n",
      "799748  Action, Adventure, Comedy       2015.0  \n",
      "857750             Action, Comedy       2015.0  \n",
      "500864      Action, Comedy, Crime       2010.0  \n"
     ]
    }
   ],
   "source": [
    "import random\n",
    "\n",
    "# Function to filter by user-selected criteria or return random movies or most popular\n",
    "def filter_movies(df, rating_range=None, type_filter=None, most_popular=False, num_suggestions=5, \n",
    "                  selected_genres=None, selected_years=None, selection_mode='default'):\n",
    "    # Check for selection mode and process accordingly\n",
    "    if selection_mode == 'random':\n",
    "        # Randomly select movies based on applied filters\n",
    "        if not any([rating_range, type_filter, selected_genres, selected_years]):\n",
    "            # If no filters are applied, return purely random movies\n",
    "            df = df.sample(n=num_suggestions, random_state=random.randint(1, 1000))  # Randomly select 'num_suggestions' movies\n",
    "        else:\n",
    "            # If filters are applied, use random selection from the filtered dataset\n",
    "            if rating_range:\n",
    "                rating_min = int(rating_range[0])\n",
    "                df = df[df['averageRating'] >= rating_min]\n",
    "            if type_filter:\n",
    "                df = df[df['type'] == type_filter]\n",
    "            if selected_genres:\n",
    "                for genre in selected_genres:\n",
    "                    df = df[df['genres'].str.contains(genre, case=False, na=False)]\n",
    "            if selected_years:\n",
    "                df = df[df['releaseYear'].isin(selected_years)]\n",
    "            df = df.sample(n=num_suggestions, random_state=random.randint(1, 1000))  # Randomly select 'num_suggestions' from filtered results\n",
    "    \n",
    "    elif selection_mode == 'most_popular':\n",
    "        # Filter by Most Popular (Top-voted based on numVotes)\n",
    "        if not any([rating_range, type_filter, selected_genres, selected_years]):\n",
    "            df = df.sort_values(by='numVotes', ascending=False).head(num_suggestions)\n",
    "        else:\n",
    "            # Apply the user's filters and sort by popularity\n",
    "            if rating_range:\n",
    "                rating_min = int(rating_range[0])\n",
    "                df = df[df['averageRating'] >= rating_min]\n",
    "            if type_filter:\n",
    "                df = df[df['type'] == type_filter]\n",
    "            if selected_genres:\n",
    "                for genre in selected_genres:\n",
    "                    df = df[df['genres'].str.contains(genre, case=False, na=False)]\n",
    "            if selected_years:\n",
    "                df = df[df['releaseYear'].isin(selected_years)]\n",
    "            df = df.sort_values(by='numVotes', ascending=False).head(num_suggestions)\n",
    "    \n",
    "    else:  # Default behavior (no sorting by popularity)\n",
    "        # Apply filters and return results without popularity-based sorting\n",
    "        if rating_range:\n",
    "            rating_min = int(rating_range[0])\n",
    "            df = df[df['averageRating'] >= rating_min]\n",
    "        \n",
    "        if type_filter:\n",
    "            df = df[df['type'] == type_filter]\n",
    "        \n",
    "        if selected_genres:\n",
    "            for genre in selected_genres:\n",
    "                df = df[df['genres'].str.contains(genre, case=False, na=False)]\n",
    "        \n",
    "        if selected_years:\n",
    "            df = df[df['releaseYear'].isin(selected_years)]\n",
    "        \n",
    "        df = df.head(num_suggestions)\n",
    "    \n",
    "    return df\n",
    "\n",
    "# Example of using the filter function\n",
    "rating_range = \"7+\"  # User selects 7+ rating\n",
    "type_filter = \"movie\"  # User selects 'movie'\n",
    "most_popular = True  # User selects 'most popular'\n",
    "num_suggestions = 5  # User selects top 5 suggestions\n",
    "selected_genres = ['Action', 'Comedy']  # User selects multiple genres\n",
    "selected_years = [2010, 2015, 2020]  # User selects multiple years\n",
    "selection_mode = 'random'  # User selects random mode (can be 'random', 'most_popular', or 'default')\n",
    "\n",
    "# Apply the filter with random mode\n",
    "df_filtered_suggestions = filter_movies(df_processed, rating_range, type_filter, most_popular, num_suggestions, \n",
    "                                         selected_genres, selected_years, selection_mode)\n",
    "\n",
    "# Display the filtered suggestions\n",
    "print(df_filtered_suggestions[['title', 'averageRating', 'numVotes', 'genres', 'releaseYear']])\n"
   ]
  },
  {
   "cell_type": "code",
   "execution_count": 7,
   "id": "4ad44b0f",
   "metadata": {
    "execution": {
     "iopub.execute_input": "2024-12-22T18:03:51.499362Z",
     "iopub.status.busy": "2024-12-22T18:03:51.498968Z",
     "iopub.status.idle": "2024-12-22T18:03:54.116661Z",
     "shell.execute_reply": "2024-12-22T18:03:54.115397Z"
    },
    "papermill": {
     "duration": 2.624027,
     "end_time": "2024-12-22T18:03:54.118443",
     "exception": false,
     "start_time": "2024-12-22T18:03:51.494416",
     "status": "completed"
    },
    "tags": []
   },
   "outputs": [
    {
     "name": "stdout",
     "output_type": "stream",
     "text": [
      "Note: you may need to restart the kernel to use updated packages.\n"
     ]
    }
   ],
   "source": [
    "pip freeze > requirements.txt\n"
   ]
  },
  {
   "cell_type": "code",
   "execution_count": null,
   "id": "558714f1",
   "metadata": {
    "papermill": {
     "duration": 0.003381,
     "end_time": "2024-12-22T18:03:54.125499",
     "exception": false,
     "start_time": "2024-12-22T18:03:54.122118",
     "status": "completed"
    },
    "tags": []
   },
   "outputs": [],
   "source": []
  },
  {
   "cell_type": "code",
   "execution_count": null,
   "id": "fc346ab1",
   "metadata": {
    "papermill": {
     "duration": 0.003167,
     "end_time": "2024-12-22T18:03:54.132199",
     "exception": false,
     "start_time": "2024-12-22T18:03:54.129032",
     "status": "completed"
    },
    "tags": []
   },
   "outputs": [],
   "source": []
  },
  {
   "cell_type": "code",
   "execution_count": null,
   "id": "cdb01770",
   "metadata": {
    "papermill": {
     "duration": 0.003144,
     "end_time": "2024-12-22T18:03:54.138668",
     "exception": false,
     "start_time": "2024-12-22T18:03:54.135524",
     "status": "completed"
    },
    "tags": []
   },
   "outputs": [],
   "source": []
  },
  {
   "cell_type": "code",
   "execution_count": null,
   "id": "2f47d3fb",
   "metadata": {
    "papermill": {
     "duration": 0.003278,
     "end_time": "2024-12-22T18:03:54.145315",
     "exception": false,
     "start_time": "2024-12-22T18:03:54.142037",
     "status": "completed"
    },
    "tags": []
   },
   "outputs": [],
   "source": []
  }
 ],
 "metadata": {
  "kaggle": {
   "accelerator": "none",
   "dataSources": [
    {
     "datasetId": 6092062,
     "sourceId": 10268347,
     "sourceType": "datasetVersion"
    }
   ],
   "dockerImageVersionId": 30823,
   "isGpuEnabled": false,
   "isInternetEnabled": true,
   "language": "python",
   "sourceType": "notebook"
  },
  "kernelspec": {
   "display_name": "Python 3",
   "language": "python",
   "name": "python3"
  },
  "language_info": {
   "codemirror_mode": {
    "name": "ipython",
    "version": 3
   },
   "file_extension": ".py",
   "mimetype": "text/x-python",
   "name": "python",
   "nbconvert_exporter": "python",
   "pygments_lexer": "ipython3",
   "version": "3.10.12"
  },
  "papermill": {
   "default_parameters": {},
   "duration": 13.118052,
   "end_time": "2024-12-22T18:03:55.170882",
   "environment_variables": {},
   "exception": null,
   "input_path": "__notebook__.ipynb",
   "output_path": "__notebook__.ipynb",
   "parameters": {},
   "start_time": "2024-12-22T18:03:42.052830",
   "version": "2.6.0"
  }
 },
 "nbformat": 4,
 "nbformat_minor": 5
}
